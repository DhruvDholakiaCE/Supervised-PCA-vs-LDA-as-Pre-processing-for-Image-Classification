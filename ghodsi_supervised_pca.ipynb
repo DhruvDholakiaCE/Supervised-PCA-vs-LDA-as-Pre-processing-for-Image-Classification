{
 "cells": [
  {
   "cell_type": "markdown",
   "metadata": {},
   "source": [
    "Supervised Principal Component Analysis: Visualization, Classification and Regression on Subspaces and Submanifolds\n",
    "\n",
    "https://uwaterloo.ca/data-analytics/sites/ca.data-analytics/files/uploads/files/barshan_supervised_preprint.pdf"
   ]
  },
  {
   "cell_type": "code",
   "execution_count": 2,
   "metadata": {},
   "outputs": [],
   "source": [
    "import numpy as np\n",
    "from scipy import linalg\n",
    "from scipy.sparse.linalg import eigsh as ssl_eigsh"
   ]
  },
  {
   "cell_type": "code",
   "execution_count": 3,
   "metadata": {},
   "outputs": [],
   "source": [
    "from sklearn.base import TransformerMixin, BaseEstimator\n",
    "from sklearn import utils\n",
    "from sklearn.preprocessing import KernelCenterer, scale\n",
    "from sklearn.metrics.pairwise import pairwise_kernels"
   ]
  },
  {
   "cell_type": "markdown",
   "metadata": {},
   "source": [
    "# Algorithm: Supervised PCA\n",
    "\n",
    "Input: training data matrix, X, testing data example, x, kernel matrix of target variable, L, and training data size, n.\n",
    "\n",
    "Onput: Dimension reduced training and testing data, Z and z.\n",
    "\n",
    "1: H ← I − (n^−1)ee^T\n",
    "\n",
    "2: Q ← XHLHX^T\n",
    "\n",
    "3: Compute basis: U ← eigenvectors of Q corresponding to the top d eigenvalues.\n",
    "\n",
    "4: Encode training data: Z ← U^T X\n",
    "\n",
    "5: Encode test example: z ← U^T x"
   ]
  },
  {
   "cell_type": "code",
   "execution_count": 4,
   "metadata": {},
   "outputs": [],
   "source": [
    "class spca(BaseEstimator, TransformerMixin):\n",
    "    \n",
    "    def __init__(self, num_components, kernel=\"linear\", eigen_solver='auto', \n",
    "                 max_iterations=None, gamma=0, degree=3, coef0=1, alpha=1.0, \n",
    "                 tolerance=0, fit_inverse_transform=False):\n",
    "        \n",
    "        self._num_components = num_components\n",
    "        self._gamma = gamma\n",
    "        self._tolerance = tolerance\n",
    "        self._fit_inverse_transform = fit_inverse_transform\n",
    "        self._max_iterations = max_iterations\n",
    "        self._degree = degree\n",
    "        self._kernel = kernel\n",
    "        self._eigen_solver = eigen_solver\n",
    "        self._coef0 = coef0\n",
    "        self._centerer = KernelCenterer()\n",
    "        self._alpha = alpha\n",
    "        \n",
    "        \n",
    "    def _get_kernel(self, X, Y=None):\n",
    "        # Returns a kernel matrix K such that K_{i, j} is the kernel between the ith and jth vectors \n",
    "        # of the given matrix X, if Y is None. \n",
    "        \n",
    "        # If Y is not None, then K_{i, j} is the kernel between the ith array from X and the jth array from Y.\n",
    "        \n",
    "        # valid kernels are 'linear, rbf, poly, sigmoid, precomputed'\n",
    "        \n",
    "        args = {\"gamma\": self._gamma, \"degree\": self._degree, \"coef0\": self._coef0}\n",
    "        \n",
    "        return pairwise_kernels(X, Y, metric=self._kernel, n_jobs=-1, filter_params=True, **args)\n",
    "    \n",
    "    \n",
    "    \n",
    "    def _fit(self, X, Y):\n",
    "        \n",
    "        # calculate kernel matrix of the labels Y and centre it and call it K (=H.L.H)\n",
    "        K = self._centerer.fit_transform(self._get_kernel(Y))\n",
    "        \n",
    "        # deciding on the number of components to use\n",
    "        if self._num_components is not None:\n",
    "            num_components = min(K.shape[0], self._num_components)\n",
    "        else:\n",
    "            num_components = self.K.shape[0]\n",
    "        \n",
    "        # Scale X\n",
    "        # scaled_X = scale(X)\n",
    "        \n",
    "        # calculate the eigen values and eigen vectors for X^T.K.X\n",
    "        Q = (X.T).dot(K).dot(X)\n",
    "        \n",
    "        # If n_components is much less than the number of training samples, \n",
    "        # arpack may be more efficient than the dense eigensolver.\n",
    "        if (self._eigen_solver=='auto'):\n",
    "            if (Q.shape[0]/num_components) > 20:\n",
    "                eigen_solver = 'arpack'\n",
    "            else:\n",
    "                eigen_solver = 'dense'\n",
    "        else:\n",
    "            eigen_solver = self._eigen_solver\n",
    "        \n",
    "        if eigen_solver == 'dense':\n",
    "            # Return the eigenvalues (in ascending order) and eigenvectors of a Hermitian or symmetric matrix.\n",
    "            self._lambdas, self._alpha = linalg.eigh(Q, eigvals=(Q.shape[0] - num_components, Q.shape[0] - 1))\n",
    "            # argument eigvals = Indexes of the smallest and largest (in ascending order) eigenvalues\n",
    "        \n",
    "        elif eigen_solver == 'arpack':\n",
    "            # deprecated :: self._lambdas, self._alpha = utils.arpack.eigsh(A=Q, num_components, which=\"LA\", tol=self._tolerance)\n",
    "            self._lambdas, self._alpha = ssl_eigsh(A=Q, k=num_components, which=\"LA\", tol=self._tolerance)\n",
    "            \n",
    "        indices = self._lambdas.argsort()[::-1]\n",
    "        \n",
    "        self._lambdas = self._lambdas[indices]\n",
    "        self._lambdas = self._lambdas[self._lambdas > 0]  # selecting values only for non zero eigen values\n",
    "        \n",
    "        self._alpha = self._alpha[:, indices]\n",
    "        self._alpha = self._alpha[:, (self._lambdas > 0)]  # selecting values only for non zero eigen values\n",
    "        \n",
    "        self.X_fit = X\n",
    "\n",
    "        \n",
    "    def _transform(self):\n",
    "            return self.X_fit.dot(self._alpha)\n",
    "        \n",
    "        \n",
    "    def transform(self, X):\n",
    "            return X.dot(self._alpha)\n",
    "        \n",
    "        \n",
    "    def fit(self, X, Y):\n",
    "            self._fit(X,Y)\n",
    "            return\n",
    "        \n",
    "        \n",
    "    def fit_and_transform(self, X, Y):\n",
    "            self.fit(X, Y)\n",
    "            return self._transform()\n",
    "               \n",
    "\n",
    "        "
   ]
  },
  {
   "cell_type": "code",
   "execution_count": 5,
   "metadata": {},
   "outputs": [],
   "source": [
    "from keras.datasets import mnist\n",
    "\n",
    "(train_X, train_y), (test_X, test_y) = mnist.load_data()"
   ]
  },
  {
   "cell_type": "code",
   "execution_count": 6,
   "metadata": {},
   "outputs": [
    {
     "data": {
      "text/plain": [
       "(60000, 28, 28)"
      ]
     },
     "execution_count": 6,
     "metadata": {},
     "output_type": "execute_result"
    }
   ],
   "source": [
    "train_X.shape "
   ]
  },
  {
   "cell_type": "code",
   "execution_count": 31,
   "metadata": {},
   "outputs": [
    {
     "data": {
      "text/plain": [
       "(30000, 784)"
      ]
     },
     "execution_count": 31,
     "metadata": {},
     "output_type": "execute_result"
    }
   ],
   "source": [
    "trial_X = train_X[0:30000,:,:].reshape((-1,784))\n",
    "trial_y = train_y[0:30000].reshape((-1,1))\n",
    "\n",
    "trial_X.shape"
   ]
  },
  {
   "cell_type": "code",
   "execution_count": 32,
   "metadata": {},
   "outputs": [],
   "source": [
    "pca = spca(num_components = 16)\n",
    "pca.fit(trial_X, trial_y)"
   ]
  },
  {
   "cell_type": "code",
   "execution_count": 33,
   "metadata": {},
   "outputs": [
    {
     "data": {
      "text/plain": [
       "(30000, 16)"
      ]
     },
     "execution_count": 33,
     "metadata": {},
     "output_type": "execute_result"
    }
   ],
   "source": [
    "X = pca.transform(trial_X)\n",
    "X.shape"
   ]
  },
  {
   "cell_type": "code",
   "execution_count": 34,
   "metadata": {},
   "outputs": [],
   "source": [
    "import tensorflow as tf\n",
    "dnny_train = tf.keras.utils.to_categorical(trial_y)\n",
    "dnny_test = tf.keras.utils.to_categorical(test_y)"
   ]
  },
  {
   "cell_type": "code",
   "execution_count": 42,
   "metadata": {},
   "outputs": [
    {
     "name": "stdout",
     "output_type": "stream",
     "text": [
      "Model: \"sequential_3\"\n",
      "_________________________________________________________________\n",
      " Layer (type)                Output Shape              Param #   \n",
      "=================================================================\n",
      " dense_18 (Dense)            (None, 50)                850       \n",
      "                                                                 \n",
      " dense_19 (Dense)            (None, 150)               7650      \n",
      "                                                                 \n",
      " dense_20 (Dense)            (None, 300)               45300     \n",
      "                                                                 \n",
      " dense_21 (Dense)            (None, 200)               60200     \n",
      "                                                                 \n",
      " dense_22 (Dense)            (None, 70)                14070     \n",
      "                                                                 \n",
      " dense_23 (Dense)            (None, 10)                710       \n",
      "                                                                 \n",
      "=================================================================\n",
      "Total params: 128,780\n",
      "Trainable params: 128,780\n",
      "Non-trainable params: 0\n",
      "_________________________________________________________________\n"
     ]
    }
   ],
   "source": [
    "import keras as K\n",
    "model = K.models.Sequential()\n",
    "model.add(K.layers.Dense(units=50, input_dim=16,\n",
    "  activation='relu'))\n",
    "model.add(K.layers.Dense(units=150,\n",
    "  activation='relu'))\n",
    "model.add(K.layers.Dense(units=300,\n",
    "  activation='relu'))\n",
    "model.add(K.layers.Dense(units=200,\n",
    "  activation='relu'))\n",
    "model.add(K.layers.Dense(units=70,\n",
    "  activation='relu'))\n",
    "model.add(K.layers.Dense(units=10,\n",
    "  activation='softmax'))\n",
    "model.compile(loss='categorical_crossentropy',\n",
    "  optimizer='adam', metrics=['accuracy'])\n",
    "\n",
    "model.summary()"
   ]
  },
  {
   "cell_type": "code",
   "execution_count": 46,
   "metadata": {},
   "outputs": [],
   "source": [
    "num_epochs = 10\n",
    "h = model.fit(X, dnny_train, batch_size=50, epochs=num_epochs, verbose= 0) "
   ]
  },
  {
   "cell_type": "code",
   "execution_count": 47,
   "metadata": {},
   "outputs": [
    {
     "data": {
      "text/plain": [
       "{'loss': [0.3312532901763916,\n",
       "  0.3111935555934906,\n",
       "  0.29774126410484314,\n",
       "  0.28123417496681213,\n",
       "  0.2706436812877655,\n",
       "  0.26320886611938477,\n",
       "  0.2439946085214615,\n",
       "  0.24072745442390442,\n",
       "  0.22957895696163177,\n",
       "  0.21088118851184845],\n",
       " 'accuracy': [0.885200023651123,\n",
       "  0.8918666839599609,\n",
       "  0.8969666957855225,\n",
       "  0.902899980545044,\n",
       "  0.9045000076293945,\n",
       "  0.9072333574295044,\n",
       "  0.9133999943733215,\n",
       "  0.9171666502952576,\n",
       "  0.9199000000953674,\n",
       "  0.9256333112716675]}"
      ]
     },
     "execution_count": 47,
     "metadata": {},
     "output_type": "execute_result"
    }
   ],
   "source": [
    "h.history"
   ]
  },
  {
   "cell_type": "code",
   "execution_count": 48,
   "metadata": {},
   "outputs": [
    {
     "name": "stdout",
     "output_type": "stream",
     "text": [
      "\n",
      "Evaluation on test data: \n",
      "loss = 0.9128     accuracy = 78.97%\n",
      "\n",
      "End MNIST DNN demo \n",
      "\n"
     ]
    }
   ],
   "source": [
    "eval = model.evaluate(pca.transform(test_X.reshape((-1,784))), dnny_test, verbose=0)\n",
    "print(\"\\nEvaluation on test data: \\nloss = %0.4f \\\n",
    "    accuracy = %0.2f%%\" % (eval[0], eval[1]*100) )\n",
    "\n",
    "print(\"\\nEnd MNIST DNN demo \\n\")"
   ]
  },
  {
   "cell_type": "code",
   "execution_count": 55,
   "metadata": {},
   "outputs": [
    {
     "data": {
      "image/png": "[encoded data removed]",
      "text/plain": [
       "<Figure size 540x288 with 10 Axes>"
      ]
     },
     "metadata": {
      "needs_background": "light"
     },
     "output_type": "display_data"
    }
   ],
   "source": [
    "import matplotlib.pyplot as plt\n",
    "\n",
    "num_row = 2\n",
    "num_col = 5\n",
    "# plot images\n",
    "fig, axes = plt.subplots(num_row, num_col, figsize=(1.5*num_col,2*num_row))\n",
    "for i in range(10):\n",
    "    ax = axes[i//num_col, i%num_col]\n",
    "    ax.imshow(train_X[i], cmap='gray')\n",
    "    ax.set_title('Label: {}'.format(train_y[i]))\n",
    "plt.tight_layout()\n",
    "plt.show()"
   ]
  },
  {
   "cell_type": "code",
   "execution_count": null,
   "metadata": {},
   "outputs": [],
   "source": []
  }
 ],
 "metadata": {
  "kernelspec": {
   "display_name": "Python 3 (ipykernel)",
   "language": "python",
   "name": "python3"
  },
  "language_info": {
   "codemirror_mode": {
    "name": "ipython",
    "version": 3
   },
   "file_extension": ".py",
   "mimetype": "text/x-python",
   "name": "python",
   "nbconvert_exporter": "python",
   "pygments_lexer": "ipython3",
   "version": "3.10.2"
  }
 },
 "nbformat": 4,
 "nbformat_minor": 4
}
