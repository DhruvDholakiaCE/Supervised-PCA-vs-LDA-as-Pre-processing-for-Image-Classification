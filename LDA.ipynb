{
  "nbformat": 4,
  "nbformat_minor": 0,
  "metadata": {
    "colab": {
      "name": "Untitled3.ipynb",
      "provenance": []
    },
    "kernelspec": {
      "name": "python3",
      "display_name": "Python 3"
    },
    "language_info": {
      "name": "python"
    }
  },
  "cells": [
    {
      "cell_type": "code",
      "execution_count": 45,
      "metadata": {
        "id": "rLdOaUd73Jzw"
      },
      "outputs": [],
      "source": [
        "#applying LDA\n",
        "import numpy as np"
      ]
    },
    {
      "cell_type": "code",
      "source": [
        "X_train = np.load(\"drive/MyDrive/X_train.npy\", allow_pickle= True)\n",
        "X_test = np.load(\"drive/MyDrive/X_test.npy\", allow_pickle= True)\n",
        "X_val = np.load(\"drive/MyDrive/X_val.npy\", allow_pickle= True)"
      ],
      "metadata": {
        "id": "EGeT94eE3M4D"
      },
      "execution_count": 46,
      "outputs": []
    },
    {
      "cell_type": "code",
      "source": [
        "from keras.datasets import mnist\n",
        "import numpy as np\n",
        "from sklearn.model_selection import train_test_split\n",
        "\n",
        "(x_train, y_train), (x_test, y_test) = mnist.load_data()\n",
        "x = np.concatenate((x_train, x_test))\n",
        "y = np.concatenate((y_train, y_test))\n",
        "\n",
        "train_size = 0.7\n",
        "x_train, x_test, y_train, y_test = train_test_split(x, y, train_size=train_size)"
      ],
      "metadata": {
        "id": "ZXktw6l34HAA"
      },
      "execution_count": 47,
      "outputs": []
    },
    {
      "cell_type": "code",
      "source": [
        "nx_train = []\n",
        "\n",
        "for i in range(len(x_train)):\n",
        "  nx_train.append(x_train[i].flatten())\n",
        "\n",
        "nx_test = []\n",
        "\n",
        "for i in range(len(x_test)):\n",
        "  nx_test.append(x_test[i].flatten())\n"
      ],
      "metadata": {
        "id": "rf_eo4j_6Uo1"
      },
      "execution_count": 49,
      "outputs": []
    },
    {
      "cell_type": "code",
      "source": [
        "from sklearn.preprocessing import StandardScaler\n",
        "\n",
        "sc = StandardScaler()\n",
        "x_train = sc.fit_transform(nx_train)\n",
        "x_test = sc.transform(nx_test)"
      ],
      "metadata": {
        "id": "ubv-UcZv6D3w"
      },
      "execution_count": 58,
      "outputs": []
    },
    {
      "cell_type": "code",
      "source": [
        "from sklearn.discriminant_analysis import LinearDiscriminantAnalysis as LDA\n",
        "\n",
        "lda = LDA(n_components=9)\n",
        "clf = lda.fit(x_train, y_train)\n",
        "x_train = clf.transform(x_train)\n",
        "x_test = clf.transform(x_test)"
      ],
      "metadata": {
        "id": "ct4fd98Z-Qu5"
      },
      "execution_count": 59,
      "outputs": []
    },
    {
      "cell_type": "code",
      "source": [
        "import keras as K\n",
        "model = K.models.Sequential()\n",
        "model.add(K.layers.Dense(units=30, input_dim=9,\n",
        "  activation='relu'))\n",
        "model.add(K.layers.Dense(units=100,\n",
        "  activation='relu'))\n",
        "model.add(K.layers.Dense(units=50,\n",
        "  activation='relu'))\n",
        "model.add(K.layers.Dense(units=1,\n",
        "  activation='softmax'))\n",
        "model.compile(loss='categorical_crossentropy',\n",
        "  optimizer='adam', metrics=['accuracy'])"
      ],
      "metadata": {
        "id": "SoOuDYNGb_Ar"
      },
      "execution_count": 60,
      "outputs": []
    },
    {
      "cell_type": "code",
      "source": [
        "num_epochs = 10\n",
        "h = model.fit(x_train, y_train, batch_size=50,\n",
        "  epochs=num_epochs, verbose= 0) "
      ],
      "metadata": {
        "id": "mFz-n7x1c0a6"
      },
      "execution_count": 61,
      "outputs": []
    },
    {
      "cell_type": "code",
      "source": [
        "eval = model.evaluate(x_test, y_test, verbose=0)\n",
        "print(\"\\nEvaluation on test data: \\nloss = %0.4f \\\n",
        "    accuracy = %0.2f%%\" % (eval[0], eval[1]*100) )\n",
        "\n",
        "print(\"\\nEnd MNIST DNN demo \\n\")"
      ],
      "metadata": {
        "colab": {
          "base_uri": "https://localhost:8080/"
        },
        "id": "i2Z-lI9adQeq",
        "outputId": "0b24accb-0de9-4853-b73f-3987290ca94a"
      },
      "execution_count": 62,
      "outputs": [
        {
          "output_type": "stream",
          "name": "stdout",
          "text": [
            "\n",
            "Evaluation on test data: \n",
            "loss = 0.0000     accuracy = 11.21%\n",
            "\n",
            "End MNIST DNN demo \n",
            "\n"
          ]
        }
      ]
    },
    {
      "cell_type": "code",
      "source": [
        ""
      ],
      "metadata": {
        "id": "9UYwgAD7QRkv"
      },
      "execution_count": 62,
      "outputs": []
    },
    {
      "cell_type": "code",
      "source": [
        ""
      ],
      "metadata": {
        "id": "hsArXnWeB-mv"
      },
      "execution_count": 62,
      "outputs": []
    },
    {
      "cell_type": "code",
      "source": [
        ""
      ],
      "metadata": {
        "id": "86L6naRAOypL"
      },
      "execution_count": 62,
      "outputs": []
    },
    {
      "cell_type": "code",
      "source": [
        ""
      ],
      "metadata": {
        "id": "muV4ixH8_G0n"
      },
      "execution_count": 62,
      "outputs": []
    },
    {
      "cell_type": "code",
      "source": [
        ""
      ],
      "metadata": {
        "id": "VkDGOBVI-k9e"
      },
      "execution_count": 62,
      "outputs": []
    },
    {
      "cell_type": "code",
      "source": [
        ""
      ],
      "metadata": {
        "colab": {
          "base_uri": "https://localhost:8080/"
        },
        "id": "nLX4jUxS-rvf",
        "outputId": "8d118837-489e-46d3-cc8f-3980e1163ff3"
      },
      "execution_count": null,
      "outputs": [
        {
          "output_type": "stream",
          "name": "stdout",
          "text": [
            "[[1914    4    8   10    8   37   29    1   32    5]\n",
            " [   0 2204   15   11    5   13    2    4   51    3]\n",
            " [  28   61 1692   76   51    7   79   19  111   16]\n",
            " [   7   27   54 1824    5   88    7   34   52   46]\n",
            " [   1   20    8    1 1853    9   14    2   26  153]\n",
            " [  24   23    9   82   25 1505   41   13   73   36]\n",
            " [  23   17   22    0   46   48 1876    0   26    1]\n",
            " [  11   51   16   18   60    7    0 1888    8  169]\n",
            " [   9   98   24   70   23   92   16    6 1662   56]\n",
            " [  16    6    5   31  110    9    0  121   24 1777]]\n",
            "Accuracy0.8664285714285714\n"
          ]
        }
      ]
    }
  ]
}